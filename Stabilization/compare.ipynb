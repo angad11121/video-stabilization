{
 "cells": [
  {
   "cell_type": "code",
   "execution_count": 3,
   "metadata": {},
   "outputs": [],
   "source": [
    "import cv2"
   ]
  },
  {
   "cell_type": "code",
   "execution_count": 4,
   "metadata": {},
   "outputs": [],
   "source": [
    "# Read the input\n",
    "vid1 = cv2.VideoCapture('./Filter 3 to 11.mp4')\n",
    "vid2 = cv2.VideoCapture('./derivative_poly.mp4')\n",
    "\n",
    "# Get frame count\n",
    "n_frames = int(vid1.get(cv2.CAP_PROP_FRAME_COUNT))\n",
    "\n",
    "w = int(vid1.get(cv2.CAP_PROP_FRAME_WIDTH))\n",
    "h = int(vid2.get(cv2.CAP_PROP_FRAME_HEIGHT))\n",
    "fps = vid1.get(cv2.CAP_PROP_FPS)\n",
    "fourcc = cv2.VideoWriter_fourcc(*'MP4V')\n",
    "out = cv2.VideoWriter('compare_derivative_poly.mp4', fourcc, fps, (w, h))\n",
    "\n",
    "for i in range(n_frames - 1):\n",
    "    flag1, frame1 = vid1.read()\n",
    "    if not flag1:\n",
    "        break\n",
    "\n",
    "    flag2, frame2 = vid2.read()\n",
    "    frame_out = cv2.hconcat([frame1, frame2])\n",
    "\n",
    "    # If too big, resize\n",
    "    if(frame_out.shape[1] > 1920):\n",
    "        frame_out = cv2.resize(frame_out, (w, h))\n",
    "    \n",
    "    cv2.imshow('frame', frame_out)\n",
    "    cv2.waitKey(10)\n",
    "    out.write(frame_out)\n",
    "\n",
    "vid1.release()\n",
    "vid2.release()\n",
    "out.release()\n",
    "cv2.destroyAllWindows()"
   ]
  }
 ],
 "metadata": {
  "interpreter": {
   "hash": "31f2aee4e71d21fbe5cf8b01ff0e069b9275f58929596ceb00d14d90e3e16cd6"
  },
  "kernelspec": {
   "display_name": "Python 3.6.9 64-bit",
   "language": "python",
   "name": "python3"
  },
  "language_info": {
   "codemirror_mode": {
    "name": "ipython",
    "version": 3
   },
   "file_extension": ".py",
   "mimetype": "text/x-python",
   "name": "python",
   "nbconvert_exporter": "python",
   "pygments_lexer": "ipython3",
   "version": "3.6.9"
  },
  "orig_nbformat": 4
 },
 "nbformat": 4,
 "nbformat_minor": 2
}
